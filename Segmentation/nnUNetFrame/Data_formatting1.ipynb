{
 "cells": [
  {
   "cell_type": "code",
   "id": "initial_id",
   "metadata": {
    "collapsed": true,
    "ExecuteTime": {
     "end_time": "2025-03-19T08:51:05.310529Z",
     "start_time": "2025-03-19T08:50:57.900164Z"
    }
   },
   "source": [
    "\n",
    "import os\n",
    "os.environ[\"KMP_DUPLICATE_LIB_OK\"] = \"TRUE\"\n",
    "import shutil\n",
    "from collections import OrderedDict\n",
    "import subprocess\n",
    "import json\n",
    "import matplotlib.pyplot as plt\n",
    "import nibabel as nib\n",
    "\n",
    "import numpy as np\n",
    "import torch\n",
    "torch.set_num_threads(1)\n",
    "\n",
    "import nnunetv2\n",
    "\n",
    "import h5py\n"
   ],
   "outputs": [],
   "execution_count": 1
  },
  {
   "metadata": {
    "ExecuteTime": {
     "end_time": "2025-03-19T08:54:40.078888Z",
     "start_time": "2025-03-19T08:54:40.055739Z"
    }
   },
   "cell_type": "code",
   "source": [
    "def make_if_dont_exist(folder_path, overwrite=False):\n",
    "    \"\"\"\n",
    "    creates a folder if it does not exists\n",
    "    input:\n",
    "    folder_path : relative path of the folder which needs to be created\n",
    "    over_write :(default: False) if True overwrite the existing folder\n",
    "    \"\"\"\n",
    "    if os.path.exists(folder_path):\n",
    "\n",
    "        if not overwrite:\n",
    "            print(f\"{folder_path} exists.\")\n",
    "        else:\n",
    "            print(f\"{folder_path} overwritten\")\n",
    "            shutil.rmtree(folder_path)\n",
    "            os.makedirs(folder_path)\n",
    "\n",
    "    else:\n",
    "        os.makedirs(folder_path)\n",
    "        print(f\"{folder_path} created!\")"
   ],
   "id": "5a5274781b49a4f0",
   "outputs": [],
   "execution_count": 2
  },
  {
   "metadata": {},
   "cell_type": "raw",
   "source": "Train/Test Split",
   "id": "6103b6884976a47e"
  },
  {
   "metadata": {
    "ExecuteTime": {
     "end_time": "2025-03-19T09:11:02.617827Z",
     "start_time": "2025-03-19T09:11:02.601947Z"
    }
   },
   "cell_type": "code",
   "source": "dataset = \"Dataset001_Kaggle\"",
   "id": "cc594793bdc67a6b",
   "outputs": [],
   "execution_count": 8
  },
  {
   "metadata": {
    "ExecuteTime": {
     "end_time": "2025-03-19T09:04:23.727496Z",
     "start_time": "2025-03-19T09:04:23.718581Z"
    }
   },
   "cell_type": "code",
   "source": "print(\"Current Working Directory {}\".format(os.getcwd()))",
   "id": "f0e1d36f16aeff1",
   "outputs": [
    {
     "name": "stdout",
     "output_type": "stream",
     "text": [
      "Current Working Directory C:\\Users\\paula\\PycharmProjects\\STT_classification\\Segmentation\\nnUNetFrame\n"
     ]
    }
   ],
   "execution_count": 4
  },
  {
   "metadata": {
    "ExecuteTime": {
     "end_time": "2025-03-19T09:09:09.393665Z",
     "start_time": "2025-03-19T09:09:09.377807Z"
    }
   },
   "cell_type": "code",
   "source": "nnUNet_raw = os.path.join('C:\\\\Users\\\\paula\\\\PycharmProjects\\\\STT_classification\\\\Segmentation\\\\nnUNetFrame', 'nnUNet_raw')\n",
   "id": "ab76c5808bb226fc",
   "outputs": [],
   "execution_count": 6
  },
  {
   "metadata": {
    "ExecuteTime": {
     "end_time": "2025-03-19T09:11:06.090834Z",
     "start_time": "2025-03-19T09:11:06.066970Z"
    }
   },
   "cell_type": "code",
   "source": [
    "# Create directories for train and test data\n",
    "train_image_dir = os.path.join(nnUNet_raw, dataset, 'imagesTr')\n",
    "train_label_dir = os.path.join(nnUNet_raw, dataset, 'labelsTr')\n",
    "test_image_dir = os.path.join(nnUNet_raw, dataset, 'imagesTs')\n",
    "test_label_dir = os.path.join(nnUNet_raw, dataset, 'labelsTs')\n",
    "\n",
    "make_if_dont_exist(train_image_dir, overwrite=True)\n",
    "make_if_dont_exist(train_label_dir, overwrite=True)\n",
    "make_if_dont_exist(test_image_dir, overwrite=True)\n",
    "make_if_dont_exist(test_label_dir, overwrite=True)"
   ],
   "id": "15131c21a05a5f31",
   "outputs": [
    {
     "name": "stdout",
     "output_type": "stream",
     "text": [
      "C:\\Users\\paula\\PycharmProjects\\STT_classification\\Segmentation\\nnUNetFrame\\nnUNet_raw\\Dataset001_Kaggle\\imagesTr overwritten\n",
      "C:\\Users\\paula\\PycharmProjects\\STT_classification\\Segmentation\\nnUNetFrame\\nnUNet_raw\\Dataset001_Kaggle\\labelsTr overwritten\n",
      "C:\\Users\\paula\\PycharmProjects\\STT_classification\\Segmentation\\nnUNetFrame\\nnUNet_raw\\Dataset001_Kaggle\\imagesTs overwritten\n",
      "C:\\Users\\paula\\PycharmProjects\\STT_classification\\Segmentation\\nnUNetFrame\\nnUNet_raw\\Dataset001_Kaggle\\labelsTs overwritten\n"
     ]
    }
   ],
   "execution_count": 9
  },
  {
   "metadata": {},
   "cell_type": "code",
   "outputs": [],
   "execution_count": null,
   "source": "",
   "id": "4f3b4bad75dc330c"
  },
  {
   "metadata": {},
   "cell_type": "code",
   "outputs": [],
   "execution_count": null,
   "source": [
    "source_images = os.path.join(\"RawData\", 'imagesTr')\n",
    "source_labels = os.path.join(\"RawData\", 'labelsTr')"
   ],
   "id": "a6d473b041dfb5bf"
  },
  {
   "metadata": {},
   "cell_type": "markdown",
   "source": "",
   "id": "3791626b53c9b697"
  },
  {
   "metadata": {},
   "cell_type": "code",
   "outputs": [],
   "execution_count": null,
   "source": [
    "# Iterate over the MRI images and masks\n",
    "\n",
    "for file in os.listdir(source_images):\n",
    "    if file.endswith('.nii.gz'):\n",
    "        patient_id = file.split('.')[0]  # Extract patient ID (assuming file name is just the ID)\n",
    "\n",
    "        # Rename and move the image\n",
    "        new_image_name = f\"{patient_id}_0000.nii.gz\"\n",
    "        shutil.move(os.path.join(source_images, file), os.path.join(train_image_dir, new_image_name))\n",
    "\n",
    "        # Rename and move the mask (if it exists)\n",
    "        mask_file = os.path.join(source_labels, f\"{patient_id}.nii.gz\")\n",
    "        if os.path.exists(mask_file):\n",
    "            shutil.move(mask_file, os.path.join(train_label_dir, f\"{patient_id}.nii.gz\"))\n",
    "\n",
    "print(\"Renaming and moving complete!\")"
   ],
   "id": "5421f1039d396ed3"
  },
  {
   "metadata": {},
   "cell_type": "raw",
   "source": "Create JSON File",
   "id": "b0c9a2ec268a1e0d"
  },
  {
   "metadata": {},
   "cell_type": "code",
   "outputs": [],
   "execution_count": null,
   "source": [
    "def create_json(train_image_dir, test_image_dir):\n",
    "    overwrite_json_file = True  # make it True if you want to overwrite the dataset.json file in Dataset_folder\n",
    "    json_file_exist = False\n",
    "\n",
    "    if os.path.exists(os.path.join(nnUNet_raw, 'dataset.json')):\n",
    "        print('dataset.json already exist!')\n",
    "        json_file_exist = True\n",
    "\n",
    "    if json_file_exist == False or overwrite_json_file:\n",
    "\n",
    "        json_dict = OrderedDict()\n",
    "        json_dict['name'] = \"Soft_tissue_tumours Kaggle\"\n",
    "        json_dict['description'] = \"Soft Tissue Segmentation Kaggle\"\n",
    "        json_dict['tensorImageSize'] = \"3D\"\n",
    "        #json_dict['reference'] = \"see challenge website\"\n",
    "        #json_dict['licence'] = \"see challenge website\"\n",
    "        #json_dict['release'] = \"0.0\"\n",
    "\n",
    "        # you may mention more than one modality\n",
    "        json_dict['channel_names'] = {\n",
    "            \"0\": \"MRI\"\n",
    "        }\n",
    "\n",
    "        # set expected file ending\n",
    "        json_dict[\"file_ending\"] = \".nii.gz\"\n",
    "\n",
    "        # label names should be mentioned for all the labels in the dataset\n",
    "        json_dict['labels'] = {\n",
    "            \"background\": 0,\n",
    "            \"tumour\": 1\n",
    "        }\n",
    "\n",
    "        train_ids = os.listdir(train_image_dir)\n",
    "        test_ids = os.listdir(test_image_dir)\n",
    "        json_dict['numTraining'] = len(train_ids)\n",
    "        json_dict['numTest'] = len(test_ids)\n",
    "\n",
    "        with open(os.path.join(nnUNet_raw, \"dataset.json\"), 'w') as f:\n",
    "            json.dump(json_dict, f, indent=4, sort_keys=True)\n",
    "\n",
    "        if os.path.exists(os.path.join(nnUNet_raw, 'dataset.json')):\n",
    "            if json_file_exist == False:\n",
    "                print('dataset.json created!')\n",
    "            else:\n",
    "                print('dataset.json overwritten!')\n"
   ],
   "id": "8ea66c6a885713f2"
  }
 ],
 "metadata": {
  "kernelspec": {
   "display_name": "Python 3",
   "language": "python",
   "name": "python3"
  },
  "language_info": {
   "codemirror_mode": {
    "name": "ipython",
    "version": 2
   },
   "file_extension": ".py",
   "mimetype": "text/x-python",
   "name": "python",
   "nbconvert_exporter": "python",
   "pygments_lexer": "ipython2",
   "version": "2.7.6"
  }
 },
 "nbformat": 4,
 "nbformat_minor": 5
}
