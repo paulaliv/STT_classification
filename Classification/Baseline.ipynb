{
 "cells": [
  {
   "cell_type": "code",
   "execution_count": null,
   "id": "initial_id",
   "metadata": {
    "collapsed": true
   },
   "outputs": [],
   "source": "#Tabular Encoder: MLP, with included projection head (final fully connected layer)\n"
  },
  {
   "metadata": {},
   "cell_type": "code",
   "outputs": [],
   "execution_count": null,
   "source": [
    "#MRI Encoder: CNN or MLP\n",
    "\n"
   ],
   "id": "8674e615611710c6"
  },
  {
   "metadata": {
    "ExecuteTime": {
     "end_time": "2025-03-27T15:18:50.453916Z",
     "start_time": "2025-03-27T15:18:50.438688Z"
    }
   },
   "cell_type": "code",
   "source": "#Projection Head",
   "id": "6ae5617197e3757",
   "outputs": [],
   "execution_count": 1
  },
  {
   "metadata": {},
   "cell_type": "code",
   "outputs": [],
   "execution_count": null,
   "source": "#Contrastive Learning",
   "id": "59ed30a840504bf3"
  },
  {
   "metadata": {},
   "cell_type": "code",
   "outputs": [],
   "execution_count": null,
   "source": "",
   "id": "2c6700e0bc170a03"
  }
 ],
 "metadata": {
  "kernelspec": {
   "display_name": "Python 3",
   "language": "python",
   "name": "python3"
  },
  "language_info": {
   "codemirror_mode": {
    "name": "ipython",
    "version": 2
   },
   "file_extension": ".py",
   "mimetype": "text/x-python",
   "name": "python",
   "nbconvert_exporter": "python",
   "pygments_lexer": "ipython2",
   "version": "2.7.6"
  }
 },
 "nbformat": 4,
 "nbformat_minor": 5
}
